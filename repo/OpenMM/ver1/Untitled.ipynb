{
 "cells": [
  {
   "cell_type": "code",
   "execution_count": 1,
   "metadata": {},
   "outputs": [],
   "source": [
    "import numpy as np \n",
    "from scipy.integrate import odeint\n",
    "import scipy\n",
    "import matplotlib.pyplot as plt"
   ]
  },
  {
   "cell_type": "code",
   "execution_count": 2,
   "metadata": {},
   "outputs": [],
   "source": [
    "def func(y,t,conc):\n",
    "    kf = 0.0001 \n",
    "    kb = 0.0001 \n",
    "    \n",
    "    dydt = kf*(1-y) - kb*conc*y\n",
    "    \n",
    "    return dydt "
   ]
  },
  {
   "cell_type": "code",
   "execution_count": 3,
   "metadata": {},
   "outputs": [],
   "source": [
    "t = np.linspace(0,10000,10000)\n",
    "conc = 0.3\n",
    "y = odeint(func,1,t,args=(conc,))\n",
    "if conc > 1:\n",
    "    yt = (1-1/conc)*np.exp(-0.0001*t-0.0001*conc*t) + 0.0001/(0.0001+0.0001*conc)\n",
    "\n",
    "elif conc > 0.9 - 1e-14 and conc < 1 + 1e-14:\n",
    "    yt = 0.5*np.exp(-0.0001*t-0.0001*conc*t) + 0.0001/(0.0001+0.0001*conc)\n",
    "    \n",
    "elif conc > 0.8 - 1e-14 and conc < 0.9 + 1e-14:\n",
    "    yt = 0.45*np.exp(-0.0001*t-0.0001*conc*t) + 0.0001/(0.0001+0.0001*conc)\n",
    "    \n",
    "elif conc > 0.7 - 1e-14 and conc < 0.8 +1e-14:\n",
    "    yt = 0.4*np.exp(-0.0001*t-0.0001*conc*t) + 0.0001/(0.0001+0.0001*conc)\n",
    "    \n",
    "elif conc > 0.5 - 1e-14 and conc < 0.7 + 1e-14:\n",
    "    yt = 0.35*np.exp(-0.0001*t-0.0001*conc*t) + 0.0001/(0.0001+0.0001*conc)\n",
    "\n",
    "elif conc > 0.2 - 1e-14 and conc < 0.5 + 1e-14:\n",
    "    yt = 0.168*np.exp(-0.0001*t-0.0001*conc*t) + 0.0001/(0.0001+0.0001*conc)\n",
    "    \n",
    "else:\n",
    "    yt = conc*np.exp(-0.0001*t-0.0001*conc*t) + 0.0001/(0.0001+0.0001*conc)"
   ]
  },
  {
   "cell_type": "code",
   "execution_count": 4,
   "metadata": {},
   "outputs": [
    {
     "data": {
      "text/plain": [
       "<matplotlib.legend.Legend at 0x7fc0a95df940>"
      ]
     },
     "execution_count": 4,
     "metadata": {},
     "output_type": "execute_result"
    },
    {
     "data": {
      "image/png": "[encoded data removed]",
      "text/plain": [
       "<Figure size 432x288 with 1 Axes>"
      ]
     },
     "metadata": {
      "needs_background": "light"
     },
     "output_type": "display_data"
    }
   ],
   "source": [
    "plt.plot(t,y,label='odeint')\n",
    "plt.plot(t,yt,label='exp.')\n",
    "plt.legend(loc=0)"
   ]
  },
  {
   "cell_type": "code",
   "execution_count": 5,
   "metadata": {},
   "outputs": [
    {
     "data": {
      "text/plain": [
       "<matplotlib.legend.Legend at 0x7fc0a953fac8>"
      ]
     },
     "execution_count": 5,
     "metadata": {},
     "output_type": "execute_result"
    },
    {
     "data": {
      "image/png": "[encoded data removed]",
      "text/plain": [
       "<Figure size 432x288 with 1 Axes>"
      ]
     },
     "metadata": {
      "needs_background": "light"
     },
     "output_type": "display_data"
    }
   ],
   "source": [
    "plt.plot(t,1/(1+(0.1/yt)**10),label='exp.')\n",
    "plt.legend(loc=0)"
   ]
  },
  {
   "cell_type": "code",
   "execution_count": 10,
   "metadata": {},
   "outputs": [
    {
     "name": "stdout",
     "output_type": "stream",
     "text": [
      "2.23606797749979\n",
      "2.23606797749979\n"
     ]
    }
   ],
   "source": [
    "A = np.array([1 , 2])\n",
    "B = np.array([2 , 4])\n",
    "\n",
    "print(np.linalg.norm(A-B))\n",
    "\n",
    "print(np.sqrt((A[0]-B[0])**2 + (A[1]-B[1])**2))"
   ]
  },
  {
   "cell_type": "code",
   "execution_count": 17,
   "metadata": {},
   "outputs": [
    {
     "name": "stdout",
     "output_type": "stream",
     "text": [
      "[1.         1.         2.23606798 3.60555128 5.         6.40312424]\n",
      "[[0 1 2 3 4 5]\n",
      " [5 4 3 2 4 2]]\n"
     ]
    }
   ],
   "source": [
    "A = np.array([1, 2, 3, 4, 5, 6])\n",
    "B = np.array([7, 6, 5, 4, 6, 4])\n",
    "coord = np.array([A, B])\n",
    "\n",
    "C = np.array([1,2])\n",
    "D = np.array([coord[0]-C[0],coord[1]-C[1]])\n",
    "print(np.sqrt((A-C[0])**2 + (A-C[1])**2))\n",
    "print(D)"
   ]
  },
  {
   "cell_type": "code",
   "execution_count": 1,
   "metadata": {},
   "outputs": [],
   "source": [
    "A = 1 "
   ]
  },
  {
   "cell_type": "code",
   "execution_count": 3,
   "metadata": {},
   "outputs": [
    {
     "data": {
      "text/plain": [
       "()"
      ]
     },
     "execution_count": 3,
     "metadata": {},
     "output_type": "execute_result"
    }
   ],
   "source": [
    "import numpy as np\n",
    "np.shape(A)"
   ]
  },
  {
   "cell_type": "code",
   "execution_count": 5,
   "metadata": {},
   "outputs": [
    {
     "name": "stdout",
     "output_type": "stream",
     "text": [
      "false\n"
     ]
    }
   ],
   "source": [
    "if np.shape(A):\n",
    "    print('True')\n",
    "else:\n",
    "    print('false')"
   ]
  },
  {
   "cell_type": "code",
   "execution_count": null,
   "metadata": {},
   "outputs": [],
   "source": [
    "dx = [1,2,3,4,5,6]\n",
    "if dx <= 3"
   ]
  }
 ],
 "metadata": {
  "kernelspec": {
   "display_name": "Python 3",
   "language": "python",
   "name": "python3"
  },
  "language_info": {
   "codemirror_mode": {
    "name": "ipython",
    "version": 3
   },
   "file_extension": ".py",
   "mimetype": "text/x-python",
   "name": "python",
   "nbconvert_exporter": "python",
   "pygments_lexer": "ipython3",
   "version": "3.7.3"
  }
 },
 "nbformat": 4,
 "nbformat_minor": 2
}
